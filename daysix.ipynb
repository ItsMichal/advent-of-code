{
 "cells": [
  {
   "cell_type": "code",
   "execution_count": 15,
   "metadata": {},
   "outputs": [
    {
     "name": "stdout",
     "output_type": "stream",
     "text": [
      "[45, 97, 72, 95]\n",
      "[305, 1062, 1110, 1695]\n",
      "2612736\n"
     ]
    }
   ],
   "source": [
    "input = open('inputs/d6input.txt', 'r')\n",
    "lines = input.readlines()\n",
    "\n",
    "\n",
    "races = []\n",
    "records = []\n",
    "\n",
    "for i in range(len(lines)):\n",
    "    if i == 0:\n",
    "        races = [int(i) for i in filter(lambda x: x != '', lines[i].strip().split(\" \")[1:])]\n",
    "    else:\n",
    "        records = [int(i) for i in filter(lambda x: x != '', lines[i].strip().split(\" \")[1:])]\n",
    "\n",
    "print(races)\n",
    "print(records)\n",
    "\n",
    "\n",
    "def findPossibleForRaceRecord(race, record):\n",
    "    wins = 0\n",
    "    for i in range(race):\n",
    "        if i * (race-i) > record:\n",
    "            wins += 1\n",
    "\n",
    "    return wins\n",
    "\n",
    "cumulative = 1\n",
    "\n",
    "for i in range(len(races)):\n",
    "    cumulative *= findPossibleForRaceRecord(races[i], records[i])\n",
    "\n",
    "print(cumulative)\n",
    "\n",
    "\n",
    "        \n",
    "\n"
   ]
  },
  {
   "cell_type": "code",
   "execution_count": 17,
   "metadata": {},
   "outputs": [
    {
     "name": "stdout",
     "output_type": "stream",
     "text": [
      "[45, 97, 72, 95]\n",
      "[305, 1062, 1110, 1695]\n",
      "29891250\n"
     ]
    }
   ],
   "source": [
    "input = open('inputs/d6input.txt', 'r')\n",
    "lines = input.readlines()\n",
    "\n",
    "\n",
    "races = []\n",
    "records = []\n",
    "\n",
    "for i in range(len(lines)):\n",
    "    if i == 0:\n",
    "        races = [int(i) for i in filter(lambda x: x != '', lines[i].strip().split(\" \")[1:])]\n",
    "    else:\n",
    "        records = [int(i) for i in filter(lambda x: x != '', lines[i].strip().split(\" \")[1:])]\n",
    "\n",
    "print(races)\n",
    "print(records)\n",
    "\n",
    "races = [int('45977295')]\n",
    "records = [int('305106211101695')]\n",
    "\n",
    "def findPossibleForRaceRecord(race, record):\n",
    "    wins = 0\n",
    "    for i in range(race):\n",
    "        if i * (race-i) > record:\n",
    "            wins += 1\n",
    "\n",
    "    return wins\n",
    "\n",
    "cumulative = 1\n",
    "\n",
    "for i in range(len(races)):\n",
    "    cumulative *= findPossibleForRaceRecord(races[i], records[i])\n",
    "\n",
    "print(cumulative)"
   ]
  }
 ],
 "metadata": {
  "kernelspec": {
   "display_name": "Python 3",
   "language": "python",
   "name": "python3"
  },
  "language_info": {
   "codemirror_mode": {
    "name": "ipython",
    "version": 3
   },
   "file_extension": ".py",
   "mimetype": "text/x-python",
   "name": "python",
   "nbconvert_exporter": "python",
   "pygments_lexer": "ipython3",
   "version": "3.10.13"
  }
 },
 "nbformat": 4,
 "nbformat_minor": 2
}
