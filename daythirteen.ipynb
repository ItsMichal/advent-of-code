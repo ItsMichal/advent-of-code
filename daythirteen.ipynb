{
 "cells": [
  {
   "cell_type": "code",
   "execution_count": 27,
   "metadata": {},
   "outputs": [
    {
     "data": {
      "text/plain": [
       "31974"
      ]
     },
     "execution_count": 27,
     "metadata": {},
     "output_type": "execute_result"
    }
   ],
   "source": [
    "input = open('inputs/d6input.txt', 'r')\n",
    "lines = input.readlines()\n",
    "cum_sum =0\n",
    "\n",
    "patterns = []\n",
    "cur_pattern = []\n",
    "\n",
    "for i in range(len(lines)):\n",
    "    ln = lines[i].strip()\n",
    "    if ln == '':\n",
    "        patterns.append(cur_pattern)\n",
    "        cur_pattern = []\n",
    "        continue\n",
    "    else:\n",
    "        cur_pattern.append(ln)\n",
    "\n",
    "patterns.append(cur_pattern)\n",
    "\n",
    "\n",
    "def look_for_mirror(pattern):\n",
    "    mirror_idx = -1\n",
    "    for i in range(1, len(pattern[0])):\n",
    "        # distance from i to edge\n",
    "        line_length = min(i, len(pattern[0])-i)\n",
    "        mirror_idx = i\n",
    "        smudged = False\n",
    "\n",
    "        for j in range(len(pattern)):\n",
    "            # offset from i centerpoint to edges\n",
    "            for k in range(0, len(pattern[0])):\n",
    "                if i-k <= 0 or i+k >= len(pattern[0]):                   \n",
    "                   break\n",
    "                else:\n",
    "                    # print(i, k, pattern[j][i-1-k], pattern[j][i+k], pattern[j][:i] + '|' + pattern[j][i:])\n",
    "                    if pattern[j][i-1-k] != pattern[j][i+k]:\n",
    "                        if not smudged:\n",
    "                            smudged = True\n",
    "                        else:\n",
    "                            mirror_idx = -1\n",
    "                            break\n",
    "            if mirror_idx == -1:\n",
    "                break\n",
    "        # print('')\n",
    "        if mirror_idx != -1:\n",
    "            if smudged:\n",
    "                return mirror_idx\n",
    "           \n",
    "\n",
    "    return -1\n",
    "\n",
    "\n",
    "def flip_pattern(pattern):\n",
    "    flipped_pattern = ['' for i in range(len(pattern[0]))]\n",
    "    for i in range(len(pattern)):\n",
    "        for j in range(len(pattern[0])):\n",
    "            flipped_pattern[j] = flipped_pattern[j] + pattern[i][j]\n",
    "\n",
    "    return flipped_pattern\n",
    "        \n",
    "\n",
    "\n",
    "for i in range(len(patterns)):\n",
    "    pattern = patterns[i]\n",
    "    mult = 1\n",
    "    mirror_idx = look_for_mirror(pattern)\n",
    "    if mirror_idx == -1:\n",
    "        # print('flipping')\n",
    "\n",
    "        # flip pattern\n",
    "        flipped_pattern = flip_pattern(pattern)\n",
    "        mirror_idx = look_for_mirror(flipped_pattern)\n",
    "        mult = 100\n",
    "    \n",
    "    if mirror_idx == -1:\n",
    "        print('no mirror found', i)\n",
    "    else:\n",
    "\n",
    "        cum_sum += mirror_idx * mult\n",
    "\n",
    "cum_sum"
   ]
  }
 ],
 "metadata": {
  "kernelspec": {
   "display_name": "Python 3",
   "language": "python",
   "name": "python3"
  },
  "language_info": {
   "codemirror_mode": {
    "name": "ipython",
    "version": 3
   },
   "file_extension": ".py",
   "mimetype": "text/x-python",
   "name": "python",
   "nbconvert_exporter": "python",
   "pygments_lexer": "ipython3",
   "version": "3.10.13"
  }
 },
 "nbformat": 4,
 "nbformat_minor": 2
}
