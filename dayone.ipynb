{
 "cells": [
  {
   "cell_type": "markdown",
   "metadata": {},
   "source": [
    "# Day 1: Trebuchet?!\n",
    "Something is wrong with global snow production, and you've been selected to take a look. The Elves have even given you a map; on it, they've used stars to mark the top fifty locations that are likely to be having problems.\n",
    "\n",
    "You've been doing this long enough to know that to restore snow operations, you need to check all fifty stars by December 25th.\n",
    "\n",
    "Collect stars by solving puzzles. Two puzzles will be made available on each day in the Advent calendar; the second puzzle is unlocked when you complete the first. Each puzzle grants one star. Good luck!\n",
    "\n",
    "You try to ask why they can't just use a weather machine (\"not powerful enough\") and where they're even sending you (\"the sky\") and why your map looks mostly blank (\"you sure ask a lot of questions\") and hang on did you just say the sky (\"of course, where do you think snow comes from\") when you realize that the Elves are already loading you into a trebuchet (\"please hold still, we need to strap you in\").\n",
    "\n",
    "As they're making the final adjustments, they discover that their calibration document (your puzzle input) has been amended by a very young Elf who was apparently just excited to show off her art skills. Consequently, the Elves are having trouble reading the values on the document.\n",
    "\n",
    "The newly-improved calibration document consists of lines of text; each line originally contained a specific calibration value that the Elves now need to recover. On each line, the calibration value can be found by combining the first digit and the last digit (in that order) to form a single two-digit number.\n",
    "\n",
    "For example:"
   ]
  },
  {
   "cell_type": "markdown",
   "metadata": {},
   "source": [
    "```\n",
    "1abc2\n",
    "pqr3stu8vwx\n",
    "a1b2c3d4e5f\n",
    "treb7uchet"
   ]
  },
  {
   "cell_type": "markdown",
   "metadata": {},
   "source": [
    "In this example, the calibration values of these four lines are 12, 38, 15, and 77. Adding these together produces 142.\n",
    "\n",
    "Consider your entire calibration document. What is the sum of all of the calibration values?"
   ]
  },
  {
   "cell_type": "code",
   "execution_count": 15,
   "metadata": {},
   "outputs": [
    {
     "name": "stdout",
     "output_type": "stream",
     "text": [
      "54968\n"
     ]
    }
   ],
   "source": [
    "# read file line by line\n",
    "input = open('inputs/d1input.txt', 'r')\n",
    "lines = input.readlines()\n",
    "cum_sum = 0\n",
    "\n",
    "for i in range(len(lines)):\n",
    "    # track first and last\n",
    "    first_num = None\n",
    "    last_num = None\n",
    "\n",
    "    # iterate thru line\n",
    "    for j in range(len(lines[i])):\n",
    "        # get first number if char is numeric and not set\n",
    "        if lines[i][j].isnumeric():\n",
    "            if first_num is None:\n",
    "                first_num = lines[i][j]\n",
    "            last_num = lines[i][j]\n",
    "    \n",
    "    # parse final number and add to cumsum\n",
    "    cum_sum+= int(first_num + last_num)\n",
    "\n",
    "print(cum_sum)"
   ]
  },
  {
   "cell_type": "markdown",
   "metadata": {},
   "source": [
    "## Result : 54968"
   ]
  },
  {
   "cell_type": "markdown",
   "metadata": {},
   "source": [
    "# Day 1, Part 2"
   ]
  },
  {
   "cell_type": "markdown",
   "metadata": {},
   "source": [
    "Your calculation isn't quite right. It looks like some of the digits are actually spelled out with letters: one, two, three, four, five, six, seven, eight, and nine also count as valid \"digits\".\n",
    "\n",
    "Equipped with this new information, you now need to find the real first and last digit on each line. For example:\n",
    "```\n",
    "two1nine\n",
    "eightwothree\n",
    "abcone2threexyz\n",
    "xtwone3four\n",
    "4nineeightseven2\n",
    "zoneight234\n",
    "7pqrstsixteen\n",
    "```\n",
    "In this example, the calibration values are 29, 83, 13, 24, 42, 14, and 76. Adding these together produces 281.\n",
    "\n",
    "What is the sum of all of the calibration values?"
   ]
  },
  {
   "cell_type": "markdown",
   "metadata": {},
   "source": [
    "### Smart Trie Solution (Incomplete)\n",
    "\n",
    "I did day 1 late so I just wanted to get soemthing done, will come back and complete this though (or maybe not)"
   ]
  },
  {
   "cell_type": "code",
   "execution_count": 44,
   "metadata": {},
   "outputs": [],
   "source": [
    "# create a trie(?) to store the names of numbers one through nine\n",
    "class Node(object):\n",
    "    def __init__(self, char, isEnd, num = None):\n",
    "        self.char = char\n",
    "        self.num = num\n",
    "        self.isEnd = isEnd\n",
    "        self.children = []\n",
    "\n",
    "    def add_child(self, obj):\n",
    "        self.children.append(obj)\n",
    "\n",
    "numList = [\n",
    "    (\"one\",1),\n",
    "    (\"two\", 2),\n",
    "    (\"three\", 3),\n",
    "    (\"four\", 4),\n",
    "    (\"five\", 5),\n",
    "    (\"six\", 6),\n",
    "    (\"seven\", 7),\n",
    "    (\"eight\", 8),\n",
    "    (\"nine\", 9),\n",
    "]\n",
    "\n",
    "# create a trie for the numbers\n",
    "numtrie = Node(None, False)\n",
    "\n",
    "def addWord(word, root, num=None):\n",
    "    #check if root contains the first letter of the word in its children\n",
    "    for child in root.children:\n",
    "        if child.char == word[0]:\n",
    "            # if it does, check if next letter is out of bounds\n",
    "            if len(word) == 1:\n",
    "                # if it is, set the node to be the end of a word\n",
    "                child.num = num\n",
    "                child.isEnd = True\n",
    "                return\n",
    "            # if it isn't, add the rest of the word to the child\n",
    "            addWord(word[1:], child)\n",
    "            return\n",
    "        \n",
    "    if len(word) > 1:\n",
    "        # if it doesn't, create a new node with the first letter of the word\n",
    "        new_node = Node(word[0], False)\n",
    "        # add the rest of the word to the new node unless it is out of bounds\n",
    "        addWord(word[1:], new_node)\n",
    "        # add the new node to the root's children\n",
    "        root.add_child(new_node)\n",
    "        return\n",
    "    else:\n",
    "        # if it is, set the node to be the end of a word\n",
    "        root.add_child(Node(word[0], True, num))\n",
    "        return\n",
    "  \n",
    "# add all the numbers to the trie\n",
    "for num in numList:\n",
    "    addWord(num[0], numtrie, num[1])\n",
    "\n",
    "# print trie\n",
    "def printTrie(root):\n",
    "    print(root.char, root.num)\n",
    "    for child in root.children:\n",
    "        printTrie(child)\n",
    "\n",
    "# printTrie(numtrie)"
   ]
  },
  {
   "cell_type": "code",
   "execution_count": 39,
   "metadata": {},
   "outputs": [
    {
     "ename": "SyntaxError",
     "evalue": "incomplete input (331004671.py, line 22)",
     "output_type": "error",
     "traceback": [
      "\u001b[1;36m  Cell \u001b[1;32mIn[39], line 22\u001b[1;36m\u001b[0m\n\u001b[1;33m    # get last char in chain\u001b[0m\n\u001b[1;37m                            ^\u001b[0m\n\u001b[1;31mSyntaxError\u001b[0m\u001b[1;31m:\u001b[0m incomplete input\n"
     ]
    }
   ],
   "source": [
    "# strategy- create chains of numbers that invalidate or complete a number alongside actual numbers from before\n",
    "\n",
    "\n",
    "for i in range(len(lines)):\n",
    "    # track first and last\n",
    "    first_num = None\n",
    "    last_num = None\n",
    "\n",
    "    # iterate thru line\n",
    "    chains = []\n",
    "    for j in range(len(lines[i])):\n",
    "        # get first number if char is numeric and not set\n",
    "        if lines[i][j].isnumeric():\n",
    "            if first_num is None:\n",
    "                first_num = lines[i][j]\n",
    "            last_num = lines[i][j]\n",
    "        else:\n",
    "\n",
    "            # then, add and validate/invalidate all existing chains\n",
    "            for chain in chains:\n",
    "                # get last char in chain"
   ]
  },
  {
   "cell_type": "markdown",
   "metadata": {},
   "source": [
    "### Bruteforce Solution (Complete)"
   ]
  },
  {
   "cell_type": "code",
   "execution_count": 42,
   "metadata": {},
   "outputs": [
    {
     "name": "stdout",
     "output_type": "stream",
     "text": [
      "54094\n"
     ]
    }
   ],
   "source": [
    "new_cum_sum = 0\n",
    "input = open('inputs/d1input.txt', 'r')\n",
    "lines = input.readlines()\n",
    "for i in range(len(lines)):\n",
    "    first_num = None\n",
    "    last_num = None\n",
    "\n",
    "    end = False\n",
    "    j = 0\n",
    "    # print(lines[i])\n",
    "    while(not end):\n",
    "        if lines[i][j].isnumeric():\n",
    "            if first_num is None:\n",
    "                first_num = lines[i][j]\n",
    "            last_num = lines[i][j]\n",
    "        else:\n",
    "            # alpha, just check if it's one of the words\n",
    "            for number in numList:\n",
    "                # print(f\"check {number[0]} at {lines[i][j]} in {lines[i]}\")\n",
    "                failed = False\n",
    "                for charidx in range(len(number[0])):\n",
    "                    \n",
    "                    if j+charidx >= len(lines[i]) or number[0][charidx] != lines[i][j+charidx]:\n",
    "                        # print(\"failed\")\n",
    "                        failed = True\n",
    "                        break\n",
    "                if not failed:\n",
    "                    # print(\"Go \", number[0])\n",
    "                    # j += len(number[0])-1\n",
    "                    if(first_num is None):\n",
    "                        first_num = str(number[1])\n",
    "                    last_num = str(number[1])\n",
    "                    break\n",
    "        j+=1\n",
    "        if(j >= len(lines[i])):\n",
    "            new_cum_sum += int(first_num + last_num)\n",
    "            end = True\n",
    "\n",
    "print(new_cum_sum)"
   ]
  },
  {
   "cell_type": "markdown",
   "metadata": {},
   "source": [
    "### Answer: 54094"
   ]
  }
 ],
 "metadata": {
  "kernelspec": {
   "display_name": "Python 3",
   "language": "python",
   "name": "python3"
  },
  "language_info": {
   "codemirror_mode": {
    "name": "ipython",
    "version": 3
   },
   "file_extension": ".py",
   "mimetype": "text/x-python",
   "name": "python",
   "nbconvert_exporter": "python",
   "pygments_lexer": "ipython3",
   "version": "3.11.4"
  }
 },
 "nbformat": 4,
 "nbformat_minor": 2
}
